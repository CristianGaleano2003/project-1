{
 "cells": [
  {
   "cell_type": "code",
   "execution_count": 103,
   "metadata": {},
   "outputs": [],
   "source": [
    "import pandas as pd\n",
    "import numpy as np"
   ]
  },
  {
   "cell_type": "code",
   "execution_count": 110,
   "metadata": {},
   "outputs": [
    {
     "name": "stdout",
     "output_type": "stream",
     "text": [
      "      Segment  Country      Product Discount Band   Units Sold  \\\n",
      "0  Government   Canada   Carretera          None    $1,618.50    \n",
      "1  Government  Germany   Carretera          None    $1,321.00    \n",
      "2   Midmarket   France   Carretera          None    $2,178.00    \n",
      "3   Midmarket  Germany   Carretera          None      $888.00    \n",
      "4   Midmarket   Mexico   Carretera          None    $2,470.00    \n",
      "\n",
      "  Manufacturing Price Sale Price   Gross Sales Discounts         Sales  \\\n",
      "0              $3.00     $20.00    $32,370.00      $-      $32,370.00    \n",
      "1              $3.00     $20.00    $26,420.00      $-      $26,420.00    \n",
      "2              $3.00     $15.00    $32,670.00      $-      $32,670.00    \n",
      "3              $3.00     $15.00    $13,320.00      $-      $13,320.00    \n",
      "4              $3.00     $15.00    $37,050.00      $-      $37,050.00    \n",
      "\n",
      "           COGS        Profit        Date  Month Number Month Name  Year  \n",
      "0   $16,185.00    $16,185.00   01/01/2014             1   January   2014  \n",
      "1   $13,210.00    $13,210.00   01/01/2014             1   January   2014  \n",
      "2   $21,780.00    $10,890.00   01/06/2014             6      June   2014  \n",
      "3    $8,880.00     $4,440.00   01/06/2014             6      June   2014  \n",
      "4   $24,700.00    $12,350.00   01/06/2014             6      June   2014  \n"
     ]
    }
   ],
   "source": [
    "df = pd.read_csv(\"Financials.csv\")\n",
    "df.columns = df.columns.str.strip()\n",
    "#print(df.describe())\n",
    "#print(df.info())\n",
    "print(df.head(5))"
   ]
  },
  {
   "cell_type": "code",
   "execution_count": 105,
   "metadata": {},
   "outputs": [
    {
     "name": "stdout",
     "output_type": "stream",
     "text": [
      "          Date  conteo\n",
      "5   01/06/2014      70\n",
      "10  01/10/2013      70\n",
      "11  01/10/2014      70\n",
      "15  01/12/2014      70\n",
      "0   01/01/2014      35\n",
      "1   01/02/2014      35\n",
      "2   01/03/2014      35\n",
      "3   01/04/2014      35\n",
      "4   01/05/2014      35\n",
      "6   01/07/2014      35\n",
      "7   01/08/2014      35\n",
      "8   01/09/2013      35\n",
      "9   01/09/2014      35\n",
      "12  01/11/2013      35\n",
      "13  01/11/2014      35\n",
      "14  01/12/2013      35\n"
     ]
    }
   ],
   "source": [
    "conteofecha =  df.groupby('Date').size().reset_index(name='conteo')\n",
    "conteofecha = conteofecha.sort_values(by='conteo',ascending=False)\n",
    "print(conteofecha)"
   ]
  },
  {
   "cell_type": "code",
   "execution_count": 106,
   "metadata": {},
   "outputs": [
    {
     "name": "stdout",
     "output_type": "stream",
     "text": [
      "                    Country  conteo\n",
      "0                    Canada     140\n",
      "1                    France     140\n",
      "2                   Germany     140\n",
      "3                    Mexico     140\n",
      "4  United States of America     140\n"
     ]
    }
   ],
   "source": [
    "conteopais = df.groupby(\"Country\").size().reset_index(name=\"conteo\")\n",
    "conteopais = conteopais.sort_values(by=\"conteo\",ascending=False)\n",
    "print(conteopais)"
   ]
  },
  {
   "cell_type": "code",
   "execution_count": 107,
   "metadata": {},
   "outputs": [
    {
     "name": "stdout",
     "output_type": "stream",
     "text": [
      "            Segment  conteo\n",
      "2        Government     300\n",
      "0  Channel Partners     100\n",
      "1        Enterprise     100\n",
      "3         Midmarket     100\n",
      "4    Small Business     100\n"
     ]
    }
   ],
   "source": [
    "conteosegmento = df.groupby(\"Segment\").size().reset_index(name=\"conteo\")\n",
    "conteosegmento = conteosegmento.sort_values(by=\"conteo\",ascending=False)\n",
    "print(conteosegmento)"
   ]
  },
  {
   "cell_type": "code",
   "execution_count": 108,
   "metadata": {},
   "outputs": [
    {
     "name": "stdout",
     "output_type": "stream",
     "text": [
      "            Segment                                             Profit\n",
      "4    Small Business   $47,900.00  $39,400.00  $1,00,050.00  $1,07,5...\n",
      "0  Channel Partners   $22,662.00  $13,905.00  $22,662.00  $3,303.00...\n",
      "2        Government   $16,185.00  $13,210.00  $1,36,170.00  $18,990...\n",
      "1        Enterprise   $13,327.50  $1,725.00  $9,020.00  $14,105.00 ...\n",
      "3         Midmarket   $10,890.00  $4,440.00  $12,350.00  $4,605.00 ...\n"
     ]
    }
   ],
   "source": [
    "aporteporsegmento = df[[\"Segment\",\"Profit\"]]\n",
    "aporteporsegmento = aporteporsegmento.groupby(\"Segment\").sum().reset_index()\n",
    "aporteporsegmento = aporteporsegmento.sort_values(by=\"Profit\", ascending=False)\n",
    "print(aporteporsegmento)"
   ]
  }
 ],
 "metadata": {
  "kernelspec": {
   "display_name": "Python 3",
   "language": "python",
   "name": "python3"
  },
  "language_info": {
   "codemirror_mode": {
    "name": "ipython",
    "version": 3
   },
   "file_extension": ".py",
   "mimetype": "text/x-python",
   "name": "python",
   "nbconvert_exporter": "python",
   "pygments_lexer": "ipython3",
   "version": "3.11.5"
  }
 },
 "nbformat": 4,
 "nbformat_minor": 2
}
